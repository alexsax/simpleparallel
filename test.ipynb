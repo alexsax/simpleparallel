{
 "cells": [
  {
   "cell_type": "code",
   "execution_count": null,
   "metadata": {},
   "outputs": [],
   "source": [
    "%load_ext autoreload\n",
    "%autoreload 2"
   ]
  },
  {
   "cell_type": "code",
   "execution_count": 2,
   "metadata": {},
   "outputs": [],
   "source": [
    "import torch\n",
    "from torch.nn import TransformerEncoder, TransformerEncoderLayer\n"
   ]
  },
  {
   "cell_type": "code",
   "execution_count": null,
   "metadata": {},
   "outputs": [],
   "source": [
    "dinov2 = torch.hub.load(\"facebookresearch/dinov2\", \"dinov2_vitb14\")"
   ]
  },
  {
   "cell_type": "code",
   "execution_count": 87,
   "metadata": {},
   "outputs": [],
   "source": [
    "from model.dpt_head import create_dpt_head\n",
    "\n",
    "def map_dinov2_to_croco_naming(net, depth_mode=\"square\", conf_mode=\"exp\"):\n",
    "    net.enc_embed_dim = net.embed_dim\n",
    "    net.dec_embed_dim = net.embed_dim\n",
    "    net.dec_depth = net.n_blocks - 1\n",
    "    net.depth_mode = depth_mode\n",
    "    net.conf_mode = conf_mode\n",
    "    return net\n",
    "\n",
    "dpt_head = create_dpt_head(\n",
    "    map_dinov2_to_croco_naming(dinov2),\n",
    ")\n",
    "dpt_head.postprocess = None\n"
   ]
  },
  {
   "cell_type": "code",
   "execution_count": null,
   "metadata": {},
   "outputs": [],
   "source": [
    "from main import get_global_transformer, get_encoder, get_decoder\n",
    "encoder = get_encoder()\n",
    "transformer = get_global_transformer(encoder)\n",
    "decoder = get_decoder(encoder)"
   ]
  },
  {
   "cell_type": "code",
   "execution_count": null,
   "metadata": {},
   "outputs": [],
   "source": [
    "batch_size = 2\n",
    "img_size = (224, 224)\n",
    "images = torch.randn(batch_size, 3, *img_size)\n",
    "\n",
    "tokens_multilayer = encoder.get_intermediate_layers(images, n=encoder.n_blocks)\n",
    "tokens = tokens_multilayer[-1]\n",
    "\n",
    "tokens = transformer(tokens)\n",
    "\n",
    "tokens_multilayer = [tok for tok in tokens_multilayer]\n",
    "tokens_multilayer[-1] = tokens\n",
    "preds = decoder(\n",
    "    tokens_multilayer,\n",
    "    # [toks.unsqueeze(0) for toks in tokens_multilayer], \n",
    "    img_info=img_size,\n",
    ")\n",
    "preds.shape"
   ]
  },
  {
   "cell_type": "code",
   "execution_count": 48,
   "metadata": {},
   "outputs": [],
   "source": []
  },
  {
   "cell_type": "code",
   "execution_count": 67,
   "metadata": {},
   "outputs": [],
   "source": []
  },
  {
   "cell_type": "code",
   "execution_count": null,
   "metadata": {},
   "outputs": [],
   "source": []
  },
  {
   "cell_type": "code",
   "execution_count": null,
   "metadata": {},
   "outputs": [],
   "source": [
    "import torch.distributed as dist\n",
    "dist.get_world_size()"
   ]
  },
  {
   "cell_type": "code",
   "execution_count": null,
   "metadata": {},
   "outputs": [],
   "source": [
    "from torch.nn import TransformerEncoder, TransformerEncoderLayer\n",
    "def get_global_transformer(encoder):       \n",
    "    encoder_layer = TransformerEncoderLayer(\n",
    "        d_model=encoder.embed_dim,  # Match ViT-Base dimension\n",
    "        nhead=12,\n",
    "        dim_feedforward=3072,\n",
    "        dropout=0.1,\n",
    "        activation='gelu'\n",
    "    )\n",
    "\n",
    "    transformer = TransformerEncoder(\n",
    "        encoder_layer,\n",
    "        num_layers=6\n",
    "    )\n",
    "    return transformer\n",
    "\n",
    "transformer = get_global_transformer(dinov2)\n",
    "res = transformer(tokens)"
   ]
  },
  {
   "cell_type": "code",
   "execution_count": null,
   "metadata": {},
   "outputs": [],
   "source": [
    "tokens.shape"
   ]
  },
  {
   "cell_type": "code",
   "execution_count": null,
   "metadata": {},
   "outputs": [],
   "source": []
  }
 ],
 "metadata": {
  "kernelspec": {
   "display_name": "pt25",
   "language": "python",
   "name": "python3"
  },
  "language_info": {
   "codemirror_mode": {
    "name": "ipython",
    "version": 3
   },
   "file_extension": ".py",
   "mimetype": "text/x-python",
   "name": "python",
   "nbconvert_exporter": "python",
   "pygments_lexer": "ipython3",
   "version": "3.10.15"
  }
 },
 "nbformat": 4,
 "nbformat_minor": 2
}
